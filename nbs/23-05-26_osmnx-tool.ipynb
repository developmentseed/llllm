{
 "cells": [
  {
   "cell_type": "code",
   "execution_count": 1,
   "id": "9ec30f55-baa1-486c-9277-8e80e262edeb",
   "metadata": {},
   "outputs": [],
   "source": [
    "import sys\n",
    "sys.path.append(\"..\")"
   ]
  },
  {
   "cell_type": "code",
   "execution_count": 2,
   "id": "0321b936-0620-44d9-ab94-5afe2cc02baa",
   "metadata": {},
   "outputs": [],
   "source": [
    "import os\n",
    "\n",
    "import osmnx as ox\n",
    "from osmnx import utils_graph\n",
    "import geopandas as gpd\n",
    "\n",
    "from langchain.chat_models import ChatOpenAI\n",
    "from langchain.tools import BaseTool, DuckDuckGoSearchRun\n",
    "from langchain.agents import Tool\n",
    "\n",
    "from tools.mercantile_tool import MercantileTool\n",
    "from tools.geopy.geocode import GeopyGeocodeTool\n",
    "from tools.geopy.distance import GeopyDistanceTool\n",
    "from agents.l4m_agent import base_agent\n",
    "\n",
    "from getpass import getpass"
   ]
  },
  {
   "cell_type": "code",
   "execution_count": 3,
   "id": "8152a613-7b88-4bec-b0a7-8b9256f3c763",
   "metadata": {},
   "outputs": [
    {
     "name": "stdin",
     "output_type": "stream",
     "text": [
      " ········\n"
     ]
    }
   ],
   "source": [
    "OPENAI_API_KEY = getpass()"
   ]
  },
  {
   "cell_type": "code",
   "execution_count": 4,
   "id": "5eaa8573-86f2-4483-bcc9-7b9c82916f16",
   "metadata": {},
   "outputs": [],
   "source": [
    "os.environ[\"OPENAI_API_KEY\"] = OPENAI_API_KEY"
   ]
  },
  {
   "cell_type": "code",
   "execution_count": 5,
   "id": "4c3fbc82-af1b-40a1-8edc-248c62f93fcd",
   "metadata": {},
   "outputs": [],
   "source": [
    "from typing import Type, Dict\n",
    "\n",
    "from pydantic import BaseModel, Field\n",
    "from langchain.tools import BaseTool\n",
    "\n",
    "class PlaceWithTags(BaseModel):\n",
    "    \"Name of a place and tags in OSM.\"\n",
    "\n",
    "    place: str = Field(..., description=\"name of a place\")\n",
    "    tags: Dict[str, str] = Field(..., description=\"open street maps tags\")\n",
    "\n",
    "\n",
    "class OSMnxGeometryTool(BaseTool):\n",
    "    \"\"\"Custom tool to query geometries from OSM.\"\"\"\n",
    "\n",
    "    name: str = \"geometry\"\n",
    "    args_schema: Type[BaseModel] = PlaceWithTags\n",
    "    description: str = \"Use this tool to get geometry of different features of a place like building footprints, parks, lakes, hospitals, schools etc. \\\n",
    "    Pass the name of the place & relevant tags of Open Street Map as args.\"\n",
    "    return_direct = True\n",
    "\n",
    "    def _run(self, place: str, tags: Dict[str, str]) -> gpd.GeoDataFrame:\n",
    "        gdf = ox.geometries_from_place(place, tags)\n",
    "        gdf = gdf[gdf[\"geometry\"].type.isin({\"Polygon\", \"MultiPolygon\"})]\n",
    "        gdf = gdf[[\"name\", \"geometry\"]].reset_index(drop=True).head(20)\n",
    "        return gdf\n",
    "\n",
    "    def _arun(self, place: str):\n",
    "        raise NotImplementedError\n",
    "\n",
    "class PlaceWithNetworktype(BaseModel):\n",
    "    \"Name of a place on the map\"\n",
    "    place: str = Field(..., description=\"name of a place on the map\")\n",
    "    network_type: str = Field(..., description=\"network type: one of walk, bike, drive or all\")\n",
    "\n",
    "class OSMnxNetworkTool(BaseTool):\n",
    "    \"\"\"Custom tool to query road networks from OSM.\"\"\"\n",
    "\n",
    "    name: str = \"network\"\n",
    "    args_schema: Type[BaseModel] = PlaceWithNetworktype\n",
    "    description: str = \"Use this tool to get road network of a place. \\\n",
    "    Pass the name of the place & type of road network i.e walk, bike, drive or all.\"\n",
    "    return_direct = True\n",
    "\n",
    "    def _run(self, place: str, network_type: str) -> gpd.GeoDataFrame:\n",
    "        G = ox.graph_from_place(place, network_type=network_type, simplify=True)\n",
    "        network = utils_graph.graph_to_gdfs(G, nodes=False) \n",
    "        network = network[[\"name\", \"geometry\"]].reset_index(drop=True).head(20)\n",
    "        return network\n",
    "        \n",
    "    def _arun(self, place: str):\n",
    "        raise NotImplementedError"
   ]
  },
  {
   "cell_type": "code",
   "execution_count": 6,
   "id": "9893d0e0-dd11-4fa2-82f7-da6a37ba83a0",
   "metadata": {},
   "outputs": [],
   "source": [
    "geometry_tool = OSMnxGeometryTool()\n",
    "network_tool = OSMnxNetworkTool()"
   ]
  },
  {
   "cell_type": "code",
   "execution_count": 7,
   "id": "153d4abf-4828-4ad3-970c-db47f0772547",
   "metadata": {},
   "outputs": [],
   "source": [
    "# pick a LLM\n",
    "llm = ChatOpenAI(\n",
    "    temperature=0,\n",
    "    openai_api_key=OPENAI_API_KEY,\n",
    "    model_name=\"gpt-3.5-turbo\"\n",
    ")"
   ]
  },
  {
   "cell_type": "code",
   "execution_count": 8,
   "id": "473bf6d6-3489-42a3-ac12-6768b9c4f03b",
   "metadata": {},
   "outputs": [],
   "source": [
    "# define a set of tools the agent has access to for queries\n",
    "duckduckgo_tool = Tool(\n",
    "    name=\"DuckDuckGo\",\n",
    "    description=\"Use this tool to answer questions about current events and places. \\\n",
    "    Please ask targeted questions.\",\n",
    "    func=DuckDuckGoSearchRun().run\n",
    ")\n",
    "\n",
    "geocode_tool = GeopyGeocodeTool()\n",
    "distance_tool = GeopyDistanceTool()\n",
    "mercantile_tool = MercantileTool()\n",
    "\n",
    "tools = [duckduckgo_tool, network_tool, geocode_tool, distance_tool, mercantile_tool, geometry_tool]"
   ]
  },
  {
   "cell_type": "code",
   "execution_count": 9,
   "id": "ee95931c-b68b-4317-8c1d-227321e0c526",
   "metadata": {},
   "outputs": [],
   "source": [
    "agent = base_agent(llm, tools, name=\"structured-chat-zero-shot-react-description\")"
   ]
  },
  {
   "cell_type": "code",
   "execution_count": 10,
   "id": "3aaf6d47-157f-44e1-9aef-dda05d79c82a",
   "metadata": {},
   "outputs": [
    {
     "name": "stdout",
     "output_type": "stream",
     "text": [
      "\n",
      "\n",
      "\u001b[1m> Entering new AgentExecutor chain...\u001b[0m\n",
      "\u001b[32;1m\u001b[1;3mAction:\n",
      "```\n",
      "{\n",
      "  \"action\": \"network\",\n",
      "  \"action_input\": {\n",
      "    \"place\": \"Bangalore, India\",\n",
      "    \"network_type\": \"bike\"\n",
      "  }\n",
      "}\n",
      "``` \n",
      "\u001b[0m\n",
      "Observation: \u001b[33;1m\u001b[1;3m                       name                                           geometry\n",
      "0             2nd Main Road  LINESTRING (77.59872 12.91054, 77.59848 12.91272)\n",
      "1             2nd Main Road  LINESTRING (77.59872 12.91054, 77.59873 12.91049)\n",
      "2            9th Cross Road  LINESTRING (77.59872 12.91054, 77.59899 12.91056)\n",
      "3            7th Cross Road  LINESTRING (77.62408 12.93497, 77.62371 12.93526)\n",
      "4      Mahayogi Vemana Road  LINESTRING (77.62408 12.93497, 77.62437 12.93524)\n",
      "5   3rd Main Ashwini Layout  LINESTRING (77.62917 12.93849, 77.62887 12.93935)\n",
      "6           Inner Ring Road  LINESTRING (77.62917 12.93849, 77.62938 12.938...\n",
      "7            Yelahanka Road  LINESTRING (77.59420 13.09518, 77.59407 13.09533)\n",
      "8                       NaN  LINESTRING (77.59420 13.09518, 77.59427 13.09530)\n",
      "9                       NaN  LINESTRING (77.58396 12.99330, 77.58370 12.99343)\n",
      "10        Kumara Krupa Road  LINESTRING (77.58396 12.99330, 77.58405 12.993...\n",
      "11        Kumara Krupa Road  LINESTRING (77.58396 12.99330, 77.58384 12.993...\n",
      "12                      NaN  LINESTRING (77.57933 12.98596, 77.57841 12.98659)\n",
      "13        Kumara Krupa Road  LINESTRING (77.57933 12.98596, 77.57951 12.98620)\n",
      "14        Kumara Krupa Road  LINESTRING (77.57933 12.98596, 77.57919 12.98580)\n",
      "15                Bazaar st  LINESTRING (77.62001 12.97471, 77.62009 12.97471)\n",
      "16           Bhaskaran Road  LINESTRING (77.62001 12.97471, 77.62001 12.97475)\n",
      "17            Halasuru Road  LINESTRING (77.62001 12.97471, 77.61913 12.974...\n",
      "18           Bhaskaran Road  LINESTRING (77.62023 12.97568, 77.62025 12.97576)\n",
      "19    Gangadhar Chetty Road  LINESTRING (77.62023 12.97568, 77.62010 12.97589)\u001b[0m\n",
      "\u001b[32;1m\u001b[1;3m\u001b[0m\n",
      "\n",
      "\u001b[1m> Finished chain.\u001b[0m\n"
     ]
    }
   ],
   "source": [
    "r = agent(\"Find all bike roads in Bangalore, India\")"
   ]
  },
  {
   "cell_type": "code",
   "execution_count": 11,
   "id": "97b02be6-9bc6-4be3-aa76-313c5ad82f9a",
   "metadata": {},
   "outputs": [],
   "source": [
    "r[\"output\"].to_file(\"roads.geojson\", driver=\"GeoJSON\")"
   ]
  },
  {
   "cell_type": "code",
   "execution_count": 13,
   "id": "fcf0c1d1-9005-4163-9169-4684a3f7fe27",
   "metadata": {},
   "outputs": [
    {
     "data": {
      "text/plain": [
       "<Axes: >"
      ]
     },
     "execution_count": 13,
     "metadata": {},
     "output_type": "execute_result"
    },
    {
     "data": {
      "image/png": "[encoded data removed]",
      "text/plain": [
       "<Figure size 640x480 with 1 Axes>"
      ]
     },
     "metadata": {},
     "output_type": "display_data"
    }
   ],
   "source": [
    "r[\"output\"].plot()"
   ]
  },
  {
   "cell_type": "code",
   "execution_count": null,
   "id": "94f4e4a8-99ff-49ee-add4-47b5f95c3842",
   "metadata": {},
   "outputs": [],
   "source": []
  }
 ],
 "metadata": {
  "kernelspec": {
   "display_name": "Python 3 (ipykernel)",
   "language": "python",
   "name": "python3"
  },
  "language_info": {
   "codemirror_mode": {
    "name": "ipython",
    "version": 3
   },
   "file_extension": ".py",
   "mimetype": "text/x-python",
   "name": "python",
   "nbconvert_exporter": "python",
   "pygments_lexer": "ipython3",
   "version": "3.11.3"
  }
 },
 "nbformat": 4,
 "nbformat_minor": 5
}

{
 "cells": [
  {
   "cell_type": "code",
   "execution_count": 1,
   "id": "44d97402-afb7-406f-8126-7e09fb8c488d",
   "metadata": {},
   "outputs": [],
   "source": [
    "import sys\n",
    "sys.path.append(\"..\")"
   ]
  },
  {
   "cell_type": "code",
   "execution_count": 2,
   "id": "86a490d4-0db2-490e-9907-f319614e8c1d",
   "metadata": {},
   "outputs": [],
   "source": [
    "import os\n",
    "from getpass import getpass\n",
    "\n",
    "import geopandas as gpd\n",
    "from langchain.chat_models import ChatOpenAI\n",
    "from langchain.agents import AgentType\n",
    "from tools.stac.search import STACSearchTool\n",
    "from tools.osmnx.geometry import OSMnxGeometryTool\n",
    "from agents.l4m_agent import base_agent"
   ]
  },
  {
   "cell_type": "code",
   "execution_count": 3,
   "id": "af2b424e-c09b-484b-85e5-0ae8def2214a",
   "metadata": {},
   "outputs": [
    {
     "name": "stdout",
     "output_type": "stream",
     "text": [
      " ········\n"
     ]
    }
   ],
   "source": [
    "OPENAI_API_KEY = getpass()"
   ]
  },
  {
   "cell_type": "code",
   "execution_count": 4,
   "id": "836de1cb-71e3-46f9-95c8-042b8e36dda9",
   "metadata": {},
   "outputs": [],
   "source": [
    "os.environ[\"OPENAI_API_KEY\"] = OPENAI_API_KEY"
   ]
  },
  {
   "cell_type": "code",
   "execution_count": 39,
   "id": "2f594e81-cd61-45cb-a184-eb6f8653b9ca",
   "metadata": {},
   "outputs": [],
   "source": [
    "search_tool = STACSearchTool()\n",
    "geometry_tool = OSMnxGeometryTool()"
   ]
  },
  {
   "cell_type": "code",
   "execution_count": 40,
   "id": "5e8f5ea4-e4c0-4f60-b530-05ab70d5674d",
   "metadata": {},
   "outputs": [],
   "source": [
    "llm = llm = ChatOpenAI(\n",
    "    temperature=0,\n",
    "    openai_api_key=OPENAI_API_KEY,\n",
    "    model_name=\"gpt-3.5-turbo\"\n",
    ")"
   ]
  },
  {
   "cell_type": "code",
   "execution_count": 41,
   "id": "28e0307e-4d62-49a9-a922-10091d3ddf10",
   "metadata": {},
   "outputs": [],
   "source": [
    "agent = base_agent(llm, \n",
    "                   tools=[search_tool, geometry_tool], \n",
    "                   agent_type=AgentType.STRUCTURED_CHAT_ZERO_SHOT_REACT_DESCRIPTION)"
   ]
  },
  {
   "cell_type": "code",
   "execution_count": 42,
   "id": "a96ebe7c-01d5-4829-bff6-6ee16f4376fa",
   "metadata": {},
   "outputs": [
    {
     "name": "stdout",
     "output_type": "stream",
     "text": [
      "\n",
      "\n",
      "\u001b[1m> Entering new  chain...\u001b[0m\n",
      "\u001b[32;1m\u001b[1;3mThought: To find all the hospitals in Bangalore, Karnataka, I can use the \"geometry\" tool with the relevant tags for hospitals in OpenStreetMap.\n",
      "\n",
      "Action:\n",
      "```\n",
      "{\n",
      "  \"action\": \"geometry\",\n",
      "  \"action_input\": {\n",
      "    \"place\": \"Bangalore\",\n",
      "    \"tags\": {\n",
      "      \"amenity\": \"hospital\"\n",
      "    }\n",
      "  }\n",
      "}\n",
      "```\u001b[0m\n",
      "Observation: \u001b[33;1m\u001b[1;3m                                 name  \\\n",
      "0       R V Dental College & Hospital   \n",
      "1           Chinmaya Mission Hospital   \n",
      "2                  KLE Dental College   \n",
      "3                       Health Centre   \n",
      "4                K C General Hospital   \n",
      "..                                ...   \n",
      "95            BBMP Maternity Hospital   \n",
      "96                 Ramakrishna Clinic   \n",
      "97                       ESI Hospital   \n",
      "98                    Apollo Hospital   \n",
      "99  Panacea Hospitals Private Limited   \n",
      "\n",
      "                                             geometry  \n",
      "0   POLYGON ((77.58435 12.91216, 77.58563 12.91212...  \n",
      "1   POLYGON ((77.64580 12.97844, 77.64581 12.97838...  \n",
      "2   POLYGON ((77.53492 13.03039, 77.53540 13.03118...  \n",
      "3   POLYGON ((77.56370 13.01569, 77.56390 13.01569...  \n",
      "4   POLYGON ((77.57087 12.99349, 77.56963 12.99342...  \n",
      "..                                                ...  \n",
      "95  POLYGON ((77.59690 12.94964, 77.59726 12.94932...  \n",
      "96  POLYGON ((77.57441 12.97873, 77.57449 12.97874...  \n",
      "97  POLYGON ((77.58934 12.92808, 77.58947 12.92808...  \n",
      "98  POLYGON ((77.57240 12.98842, 77.57247 12.98841...  \n",
      "99  POLYGON ((77.53860 12.99293, 77.53876 12.99287...  \n",
      "\n",
      "[100 rows x 2 columns]\u001b[0m\n",
      "\u001b[32;1m\u001b[1;3m\u001b[0m\n",
      "\n",
      "\u001b[1m> Finished chain.\u001b[0m\n"
     ]
    }
   ],
   "source": [
    "r = agent(\"find all the hospitals in Bangalore, Karnata\")"
   ]
  },
  {
   "cell_type": "code",
   "execution_count": 46,
   "id": "7a99af60-7c2d-4bc8-8506-c43d845d9d6d",
   "metadata": {},
   "outputs": [
    {
     "ename": "AttributeError",
     "evalue": "'dict' object has no attribute 'plot'",
     "output_type": "error",
     "traceback": [
      "\u001b[0;31m---------------------------------------------------------------------------\u001b[0m",
      "\u001b[0;31mAttributeError\u001b[0m                            Traceback (most recent call last)",
      "Cell \u001b[0;32mIn[46], line 1\u001b[0m\n\u001b[0;32m----> 1\u001b[0m \u001b[43mr\u001b[49m\u001b[38;5;241;43m.\u001b[39;49m\u001b[43mplot\u001b[49m()\n",
      "\u001b[0;31mAttributeError\u001b[0m: 'dict' object has no attribute 'plot'"
     ]
    }
   ],
   "source": [
    "r.plot()"
   ]
  },
  {
   "cell_type": "code",
   "execution_count": 36,
   "id": "f400544d-003a-4614-bb87-3738503d71bd",
   "metadata": {},
   "outputs": [],
   "source": [
    "df = gpd.GeoDataFrame.from_features(r[\"output\"].to_dict(), crs=\"epsg:4326\")"
   ]
  },
  {
   "cell_type": "code",
   "execution_count": 37,
   "id": "eb9f2586-ae50-4a49-abf6-91777ad013d2",
   "metadata": {},
   "outputs": [
    {
     "data": {
      "text/plain": [
       "<Axes: >"
      ]
     },
     "execution_count": 37,
     "metadata": {},
     "output_type": "execute_result"
    },
    {
     "data": {
      "image/png": "[encoded data removed]",
      "text/plain": [
       "<Figure size 640x480 with 1 Axes>"
      ]
     },
     "metadata": {},
     "output_type": "display_data"
    }
   ],
   "source": [
    "df.plot(edgecolor=\"red\", facecolor=\"none\")"
   ]
  },
  {
   "cell_type": "code",
   "execution_count": null,
   "id": "c9c00270-fa00-4522-969e-1901b5150d2e",
   "metadata": {},
   "outputs": [],
   "source": []
  }
 ],
 "metadata": {
  "kernelspec": {
   "display_name": "Python 3 (ipykernel)",
   "language": "python",
   "name": "python3"
  },
  "language_info": {
   "codemirror_mode": {
    "name": "ipython",
    "version": 3
   },
   "file_extension": ".py",
   "mimetype": "text/x-python",
   "name": "python",
   "nbconvert_exporter": "python",
   "pygments_lexer": "ipython3",
   "version": "3.11.4"
  }
 },
 "nbformat": 4,
 "nbformat_minor": 5
}

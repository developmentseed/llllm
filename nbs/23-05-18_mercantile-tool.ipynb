{
 "cells": [
  {
   "cell_type": "code",
   "execution_count": 1,
   "id": "f7075b83-b18e-402b-9754-c5059473cc72",
   "metadata": {},
   "outputs": [],
   "source": [
    "import os\n",
    "\n",
    "from langchain.chat_models import ChatOpenAI\n",
    "from langchain.tools import BaseTool, DuckDuckGoSearchRun\n",
    "from langchain.agents import Tool, load_agent\n",
    "import mercantile"
   ]
  },
  {
   "cell_type": "code",
   "execution_count": 2,
   "id": "65a565e1-62c1-4344-a825-a688ff672cb7",
   "metadata": {},
   "outputs": [],
   "source": [
    "OPENAI_API_KEY = os.environ[\"OPENAI_API_KEY\"]"
   ]
  },
  {
   "cell_type": "code",
   "execution_count": 3,
   "id": "3e0e769b-6283-43e4-a273-cff680a31ae5",
   "metadata": {},
   "outputs": [],
   "source": [
    "llm = ChatOpenAI(\n",
    "    temperature=0,\n",
    "    openai_api_key=OPENAI_API_KEY,\n",
    "    model_name=\"gpt-3.5-turbo\"\n",
    ")"
   ]
  },
  {
   "cell_type": "code",
   "execution_count": 59,
   "id": "deee7784-30c0-4411-b041-319c916ddf78",
   "metadata": {},
   "outputs": [],
   "source": [
    "class MercantileTool(BaseTool):\n",
    "    name=\"mercantile\"\n",
    "    description=\"Use this tool to get the xyz tiles given a lng,lat coordinate. \\\n",
    "    To use this tool you need to provide lng,lat,zoom level separated by comma. \\\n",
    "    Eg: `-105.24, 22.50, 5` is the input to get a tile for this (lng=-105.24, lat=22.50) at zoom level 5\"\n",
    "\n",
    "    def _run(self, query):\n",
    "        lng,lat,zoom = map(float, query.split(\",\"))\n",
    "        return mercantile.tile(lng, lat, zoom)\n",
    "\n",
    "    def _arun(self, query):\n",
    "        raise NotImplementedError(\"Mercantile tool doesn't have an async implementation.\")"
   ]
  },
  {
   "cell_type": "code",
   "execution_count": 73,
   "id": "d7a64005-19ec-4833-ae8b-d8b883b37864",
   "metadata": {},
   "outputs": [],
   "source": [
    "duckduckgo_tool = Tool(\n",
    "    name=\"DuckDuckGo\",\n",
    "    description=\"Use this tool to answer questions about current events. \\\n",
    "    Please ask targeted questions.\",\n",
    "    func=DuckDuckGoSearchRun().run\n",
    ")\n",
    "\n",
    "mercantile_tool = MercantileTool()"
   ]
  },
  {
   "cell_type": "code",
   "execution_count": 77,
   "id": "0eb851bb-f1c0-4a9b-badc-64b75e09b5c5",
   "metadata": {},
   "outputs": [],
   "source": [
    "myagent = initialize_agent(\n",
    "    agent=\"zero-shot-react-description\",\n",
    "    tools=[duckduckgo_tool, mercantile_tool],\n",
    "    llm=llm,\n",
    "    verbose=True,\n",
    "    max_iterations=5,\n",
    "    early_stopping_method=\"generate\"\n",
    ")"
   ]
  },
  {
   "cell_type": "code",
   "execution_count": 78,
   "id": "0b63d42b-ecdf-486b-a34b-08d60c68812d",
   "metadata": {},
   "outputs": [
    {
     "name": "stdout",
     "output_type": "stream",
     "text": [
      "\n",
      "\n",
      "\u001b[1m> Entering new AgentExecutor chain...\u001b[0m\n",
      "\u001b[32;1m\u001b[1;3mI need to use mercantile to get the xyz tile for London, but first I need to find the longitude and latitude coordinates for London.\n",
      "Action: DuckDuckGo\n",
      "Action Input: \"longitude and latitude coordinates for London\"\u001b[0m\n",
      "Observation: \u001b[36;1m\u001b[1;3mlatitude and longitude, coordinate system by means of which the position or location of any place on Earth's surface can be determined and described. Latitude is a measurement on a globe or map of location north or south of the Equator. ... London, England, the specially designated imaginary north-south line that passes through both ... The following table lists the latitude and longitude coordinates of major world cities in alphabetical order by city name. The time corresponding to 12:00 noon, Eastern Standard Time, is also included for each city. ... Latitude Longitude ... London, England: 51: 32 N: 0: 5 W: 5:00 p.m. Lyons, France: 45: 45 N: 4: 50 E: 6:00 p.m. Madrid, Spain ... Decimal degrees = Degrees + Minutes/60 + Seconds/3600. Let's convert the latitude and longitude coordinates of the Empire State Building. The coordinates are 40° 44′ 54.3″ N, 73° 59′ 9″ W. So its latitude in decimal degrees is: DD = 40 + 44/60 + 54.3/3600 = 40.748417. And longitude: To calculate the distance between two points given longitude and latitude coordinates: Write down each point's coordinates in degrees-only format. We'll call θ and φ to their respective latitude and longitude components. Input them in the haversine distance formula: d = 2R × sin⁻¹ (√ [sin² ( (θ₂ - θ₁)/2) + cosθ₁ × cosθ₂ × ... The Geocoding API is a service that accepts a list of places as addresses, latitude/longitude coordinates, or Place IDs. It converts each address into latitude/longitude coordinates or a Place ID, or converts each set of latitude/longitude coordinates or a Place ID into an address. Note: If you only want plus codes and do not want to use an API ...\u001b[0m\n",
      "Thought:\u001b[32;1m\u001b[1;3mNow that I have the longitude and latitude coordinates for London, I can use mercantile to get the xyz tile.\n",
      "Action: mercantile\n",
      "Action Input: \"0.1278,51.5074,10\"\u001b[0m0.1278,51.5074,10\n",
      "\n",
      "Observation: \u001b[33;1m\u001b[1;3mTile(x=512, y=340, z=10.0)\u001b[0m\n",
      "Thought:\u001b[32;1m\u001b[1;3mThe xyz tile for London is Tile(x=512, y=340, z=10.0)\n",
      "Final Answer: Tile(x=512, y=340, z=10.0)\u001b[0m\n",
      "\n",
      "\u001b[1m> Finished chain.\u001b[0m\n"
     ]
    },
    {
     "data": {
      "text/plain": [
       "{'input': 'What is the xyz tile for London?',\n",
       " 'output': 'Tile(x=512, y=340, z=10.0)'}"
      ]
     },
     "execution_count": 78,
     "metadata": {},
     "output_type": "execute_result"
    }
   ],
   "source": [
    "myagent(\"What is the xyz tile for London?\")"
   ]
  },
  {
   "cell_type": "code",
   "execution_count": null,
   "id": "7527007d-35c5-4a53-91ac-4b71acf36ee3",
   "metadata": {},
   "outputs": [],
   "source": []
  }
 ],
 "metadata": {
  "kernelspec": {
   "display_name": "Python 3 (ipykernel)",
   "language": "python",
   "name": "python3"
  },
  "language_info": {
   "codemirror_mode": {
    "name": "ipython",
    "version": 3
   },
   "file_extension": ".py",
   "mimetype": "text/x-python",
   "name": "python",
   "nbconvert_exporter": "python",
   "pygments_lexer": "ipython3",
   "version": "3.11.3"
  }
 },
 "nbformat": 4,
 "nbformat_minor": 5
}

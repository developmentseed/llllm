{
 "cells": [
  {
   "cell_type": "code",
   "execution_count": 1,
   "id": "699f101a-66bb-4ae7-9ed6-01a27d028266",
   "metadata": {},
   "outputs": [],
   "source": [
    "import sys\n",
    "sys.path.append(\"..\")"
   ]
  },
  {
   "cell_type": "code",
   "execution_count": 2,
   "id": "58134048-4a6e-4ab9-87ee-04947085c30e",
   "metadata": {},
   "outputs": [],
   "source": [
    "import os\n",
    "\n",
    "from langchain.chat_models import ChatOpenAI\n",
    "from langchain.tools import BaseTool, DuckDuckGoSearchRun\n",
    "from langchain.agents import Tool\n",
    "\n",
    "from tools.mercantile_tool import MercantileTool\n",
    "from agents.l4m_agent import base_agent"
   ]
  },
  {
   "cell_type": "code",
   "execution_count": 3,
   "id": "3909647e-af00-4489-b073-4b792e250af2",
   "metadata": {},
   "outputs": [],
   "source": [
    "OPENAI_API_KEY = os.environ[\"OPENAI_API_KEY\"]"
   ]
  },
  {
   "cell_type": "code",
   "execution_count": 4,
   "id": "3c032737-e0e4-4b7a-9f6a-3b722fc0e032",
   "metadata": {},
   "outputs": [],
   "source": [
    "# pick a LLM\n",
    "llm = ChatOpenAI(\n",
    "    temperature=0,\n",
    "    openai_api_key=OPENAI_API_KEY,\n",
    "    model_name=\"gpt-3.5-turbo\"\n",
    ")"
   ]
  },
  {
   "cell_type": "code",
   "execution_count": 11,
   "id": "660da8b8-f422-4f31-a3aa-15296709033f",
   "metadata": {},
   "outputs": [],
   "source": [
    "# define a set of tools the agent has access to for queries\n",
    "duckduckgo_tool = Tool(\n",
    "    name=\"DuckDuckGo\",\n",
    "    description=\"Use this tool to answer questions about current events and places. \\\n",
    "    Please ask targeted questions.\",\n",
    "    func=DuckDuckGoSearchRun().run\n",
    ")\n",
    "\n",
    "mercantile_tool = MercantileTool()\n",
    "\n",
    "tools = [duckduckgo_tool, mercantile_tool]"
   ]
  },
  {
   "cell_type": "code",
   "execution_count": 12,
   "id": "b4c4291d-35c9-48b7-8b45-7da5ff155db7",
   "metadata": {},
   "outputs": [],
   "source": [
    "agent = base_agent(llm, tools) "
   ]
  },
  {
   "cell_type": "code",
   "execution_count": 13,
   "id": "6baab55c-892f-4938-8f18-c2b8c8712cf2",
   "metadata": {},
   "outputs": [
    {
     "name": "stdout",
     "output_type": "stream",
     "text": [
      "\n",
      "\n",
      "\u001b[1m> Entering new AgentExecutor chain...\u001b[0m\n",
      "\u001b[32;1m\u001b[1;3mI need to use the mercantile tool to get the xyz tile for London.\n",
      "Action: mercantile\n",
      "Action Input: -0.1278, 51.5074, 10\u001b[0m\n",
      "Observation: \u001b[33;1m\u001b[1;3mTile(x=511, y=340, z=10.0)\u001b[0m\n",
      "Thought:\u001b[32;1m\u001b[1;3mI now know the xyz tile for London is Tile(x=511, y=340, z=10.0).\n",
      "Final Answer: Tile(x=511, y=340, z=10.0)\u001b[0m\n",
      "\n",
      "\u001b[1m> Finished chain.\u001b[0m\n"
     ]
    },
    {
     "data": {
      "text/plain": [
       "{'input': 'What is the xyz tile for London?',\n",
       " 'output': 'Tile(x=511, y=340, z=10.0)'}"
      ]
     },
     "execution_count": 13,
     "metadata": {},
     "output_type": "execute_result"
    }
   ],
   "source": [
    "agent(\"What is the xyz tile for London?\")"
   ]
  },
  {
   "cell_type": "code",
   "execution_count": null,
   "id": "7527007d-35c5-4a53-91ac-4b71acf36ee3",
   "metadata": {},
   "outputs": [],
   "source": []
  }
 ],
 "metadata": {
  "kernelspec": {
   "display_name": "Python 3 (ipykernel)",
   "language": "python",
   "name": "python3"
  },
  "language_info": {
   "codemirror_mode": {
    "name": "ipython",
    "version": 3
   },
   "file_extension": ".py",
   "mimetype": "text/x-python",
   "name": "python",
   "nbconvert_exporter": "python",
   "pygments_lexer": "ipython3",
   "version": "3.11.3"
  }
 },
 "nbformat": 4,
 "nbformat_minor": 5
}
